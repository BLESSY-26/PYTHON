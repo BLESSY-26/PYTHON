{
 "cells": [
  {
   "cell_type": "code",
   "execution_count": null,
   "id": "ca30dabf-3bf5-4a07-b027-8d78dc626ad7",
   "metadata": {},
   "outputs": [],
   "source": [
    "TUPLE"
   ]
  },
  {
   "cell_type": "code",
   "execution_count": 3,
   "id": "c1503e7e-afa9-41b1-8f64-be04e279a3a8",
   "metadata": {},
   "outputs": [
    {
     "name": "stdout",
     "output_type": "stream",
     "text": [
      "('sapota', 'orange', 'guava')\n",
      "<class 'type'>\n"
     ]
    }
   ],
   "source": [
    "mytuple=(\"sapota\",\"orange\",\"guava\")\n",
    "print(mytuple)\n",
    "print(type(tuple))"
   ]
  },
  {
   "cell_type": "code",
   "execution_count": 5,
   "id": "96634176-d1f7-4c89-913d-728a6a5e320c",
   "metadata": {},
   "outputs": [
    {
     "name": "stdout",
     "output_type": "stream",
     "text": [
      "['sapota', 'orange', 'guava']\n",
      "<class 'list'>\n"
     ]
    }
   ],
   "source": [
    "mylist1=[\"sapota\",\"orange\",\"guava\"]\n",
    "print(mylist1)\n",
    "print(type(mylist1))"
   ]
  },
  {
   "cell_type": "code",
   "execution_count": 13,
   "id": "0543ce40-3e25-44fb-8b2d-f888ac292520",
   "metadata": {},
   "outputs": [
    {
     "name": "stdout",
     "output_type": "stream",
     "text": [
      "[3, 4, 5, 6, 55]\n"
     ]
    },
    {
     "data": {
      "text/plain": [
       "(3, 4, 5, 6, 55)"
      ]
     },
     "execution_count": 13,
     "metadata": {},
     "output_type": "execute_result"
    }
   ],
   "source": [
    "a=(3,4,5,6)\n",
    "b=list(a)\n",
    "b.append(55)\n",
    "print(b)\n",
    "a=tuple(b)\n",
    "a"
   ]
  },
  {
   "cell_type": "code",
   "execution_count": 15,
   "id": "339d44cd-ff68-4be3-b95f-842af64b0163",
   "metadata": {},
   "outputs": [
    {
     "name": "stdout",
     "output_type": "stream",
     "text": [
      "[6, 3, 8, 8, 983, 90]\n"
     ]
    },
    {
     "data": {
      "text/plain": [
       "(6, 3, 8, 8, 983, 90)"
      ]
     },
     "execution_count": 15,
     "metadata": {},
     "output_type": "execute_result"
    }
   ],
   "source": [
    "t=(6,3,8,8,983)\n",
    "k=list(t)\n",
    "k.append(90)\n",
    "print(k)\n",
    "t=tuple(k)\n",
    "t"
   ]
  },
  {
   "cell_type": "code",
   "execution_count": 27,
   "id": "805b033a-444e-4c13-ba75-8525fe58e833",
   "metadata": {},
   "outputs": [
    {
     "name": "stdout",
     "output_type": "stream",
     "text": [
      "[6, 3, 8, 8, 983, 2, 56]\n"
     ]
    }
   ],
   "source": [
    "t=(6,3,8,8,983)\n",
    "h=(2,56)\n",
    "list1=list(k)\n",
    "list2=list(h)\n",
    "print(list(t)+list(h))"
   ]
  },
  {
   "cell_type": "code",
   "execution_count": 29,
   "id": "e81a7040-3ba8-493c-a792-837764a38580",
   "metadata": {},
   "outputs": [
    {
     "name": "stdout",
     "output_type": "stream",
     "text": [
      "[1, 32, 5, 870, 90, 67, 349]\n"
     ]
    },
    {
     "data": {
      "text/plain": [
       "(1, 32, 5, 870, 90, 67, 349)"
      ]
     },
     "execution_count": 29,
     "metadata": {},
     "output_type": "execute_result"
    }
   ],
   "source": [
    "k=(1,32,5,870,90)\n",
    "r=list(k)\n",
    "r.append(67)\n",
    "r.append(349)\n",
    "print(r)\n",
    "k=tuple(r)\n",
    "k"
   ]
  },
  {
   "cell_type": "code",
   "execution_count": 31,
   "id": "b3bc6f24-fac7-4cea-bfcf-9936ce3d7160",
   "metadata": {},
   "outputs": [
    {
     "name": "stdout",
     "output_type": "stream",
     "text": [
      "('cherry', 'hello')\n"
     ]
    }
   ],
   "source": [
    "mytuple = (\"apple\", \"banana\", \"cherry\",\"hello\")\n",
    "print(mytuple[2:])"
   ]
  },
  {
   "cell_type": "code",
   "execution_count": 33,
   "id": "5f23032f-482f-41fa-be9c-6cbd9a08c24c",
   "metadata": {},
   "outputs": [
    {
     "name": "stdout",
     "output_type": "stream",
     "text": [
      "('apple', 'hi', 'cherry')\n"
     ]
    }
   ],
   "source": [
    "y = (\"apple\", \"hi\", \"cherry\",\"hello\")\n",
    "print(y[:3])"
   ]
  },
  {
   "cell_type": "code",
   "execution_count": 35,
   "id": "b0ff8901-a626-41e3-8b15-25a621848b67",
   "metadata": {},
   "outputs": [
    {
     "name": "stdout",
     "output_type": "stream",
     "text": [
      "('apple', 'banana', 'kiwi')\n"
     ]
    }
   ],
   "source": [
    "x = (\"apple\", \"banana\", \"cherry\")\n",
    "y = list(x)\n",
    "y[2] = \"kiwi\"\n",
    "x = tuple(y)\n",
    "print(x)"
   ]
  },
  {
   "cell_type": "code",
   "execution_count": 37,
   "id": "874a7482-0d7c-4b04-84ae-c5293da82a81",
   "metadata": {},
   "outputs": [
    {
     "name": "stdout",
     "output_type": "stream",
     "text": [
      "['apple', 'banana', 'cherry', 'jack']\n"
     ]
    }
   ],
   "source": [
    "mytuple = (\"apple\", \"banana\", \"cherry\",\"hello\")\n",
    "h=list(mytuple)\n",
    "h[3]=\"jack\"\n",
    "print(h)\n",
    "mytuple=tuple(h)"
   ]
  },
  {
   "cell_type": "code",
   "execution_count": 43,
   "id": "9dfab666-0652-459d-913c-b9c45ac9fb9f",
   "metadata": {},
   "outputs": [
    {
     "name": "stdout",
     "output_type": "stream",
     "text": [
      "apple\n",
      "banana\n",
      "cherry\n"
     ]
    }
   ],
   "source": [
    "hello = (\"apple\", \"banana\", \"cherry\")\n",
    "\n",
    "(a,b,c) = hello\n",
    "\n",
    "print(a)\n",
    "print(b)\n",
    "print(c)"
   ]
  },
  {
   "cell_type": "code",
   "execution_count": 45,
   "id": "7e2ef600-eefa-46b0-ba96-a01773d84b79",
   "metadata": {},
   "outputs": [
    {
     "name": "stdout",
     "output_type": "stream",
     "text": [
      "apple\n",
      "cherry\n"
     ]
    }
   ],
   "source": [
    "hello = (\"apple\", \"banana\", \"cherry\")\n",
    "\n",
    "(a,b,c) = hello\n",
    "\n",
    "print(a)\n",
    "print(c)"
   ]
  },
  {
   "cell_type": "code",
   "execution_count": 49,
   "id": "58a8350c-626b-447d-9d40-8de536eec975",
   "metadata": {},
   "outputs": [
    {
     "name": "stdout",
     "output_type": "stream",
     "text": [
      "apple\n",
      "['mango', 'papaya', 'pineapple']\n",
      "cherry\n"
     ]
    }
   ],
   "source": [
    "veg = (\"apple\", \"mango\", \"papaya\", \"pineapple\", \"cherry\")\n",
    "\n",
    "(green, *tropic,yellow) = veg\n",
    "\n",
    "print(green)\n",
    "print(tropic)\n",
    "print(yellow)"
   ]
  },
  {
   "cell_type": "code",
   "execution_count": 55,
   "id": "254dc4e5-ba29-4c17-bd0c-232b40ce5830",
   "metadata": {},
   "outputs": [
    {
     "name": "stdout",
     "output_type": "stream",
     "text": [
      "3\n"
     ]
    }
   ],
   "source": [
    "j = (1, 3,8, 7, 5, 4, 6, 8, 5)\n",
    "x = j.index(7)\n",
    "print(x)"
   ]
  },
  {
   "cell_type": "code",
   "execution_count": null,
   "id": "d4b8c307-db56-413e-ad76-433c4bd6fab2",
   "metadata": {},
   "outputs": [],
   "source": []
  }
 ],
 "metadata": {
  "kernelspec": {
   "display_name": "Python [conda env:base] *",
   "language": "python",
   "name": "conda-base-py"
  },
  "language_info": {
   "codemirror_mode": {
    "name": "ipython",
    "version": 3
   },
   "file_extension": ".py",
   "mimetype": "text/x-python",
   "name": "python",
   "nbconvert_exporter": "python",
   "pygments_lexer": "ipython3",
   "version": "3.12.7"
  }
 },
 "nbformat": 4,
 "nbformat_minor": 5
}
