{
 "cells": [
  {
   "cell_type": "code",
   "execution_count": 5,
   "id": "fa1aa0c0-e9b6-407e-9f99-d480c73423a0",
   "metadata": {},
   "outputs": [
    {
     "data": {
      "text/plain": [
       "2"
      ]
     },
     "execution_count": 5,
     "metadata": {},
     "output_type": "execute_result"
    }
   ],
   "source": [
    "mydict={\"ford\":4,\"eeco\":2,\"versa\":2}\n",
    "mydict[\"versa\"]"
   ]
  },
  {
   "cell_type": "code",
   "execution_count": 15,
   "id": "0487168b-af99-4831-ad5d-586ee549d38e",
   "metadata": {},
   "outputs": [
    {
     "data": {
      "text/plain": [
       "2"
      ]
     },
     "execution_count": 15,
     "metadata": {},
     "output_type": "execute_result"
    }
   ],
   "source": [
    "mydict={\"ford\":4,\"eeco\":2,\"versa\":2}\n",
    "x=mydict[\"versa\"]\n",
    "x"
   ]
  },
  {
   "cell_type": "code",
   "execution_count": 7,
   "id": "f26dbb86-4791-49a1-8871-7cd3134c1333",
   "metadata": {},
   "outputs": [
    {
     "data": {
      "text/plain": [
       "{'stu1': 789, 'stu2': 89, 'stu3': 90}"
      ]
     },
     "execution_count": 7,
     "metadata": {},
     "output_type": "execute_result"
    }
   ],
   "source": [
    "mark={\"stu1\":90,\"stu2\":89,\"stu3\":90}\n",
    "mark[\"stu1\"]=789\n",
    "mark"
   ]
  },
  {
   "cell_type": "code",
   "execution_count": 9,
   "id": "3c1471b0-7b1a-48d9-9d53-77a63bace742",
   "metadata": {},
   "outputs": [
    {
     "data": {
      "text/plain": [
       "89"
      ]
     },
     "execution_count": 9,
     "metadata": {},
     "output_type": "execute_result"
    }
   ],
   "source": [
    "mark={\"stu1\":90,\"stu2\":89,\"stu3\":90}\n",
    "mark[\"stu1\"]=789\n",
    "mark[\"stu2\"]"
   ]
  },
  {
   "cell_type": "code",
   "execution_count": 13,
   "id": "9720f6e0-f7e1-4ec6-8709-f3f3518c221d",
   "metadata": {},
   "outputs": [
    {
     "name": "stdout",
     "output_type": "stream",
     "text": [
      "3\n"
     ]
    },
    {
     "data": {
      "text/plain": [
       "dict"
      ]
     },
     "execution_count": 13,
     "metadata": {},
     "output_type": "execute_result"
    }
   ],
   "source": [
    "mydict={\"ford\":4,\"eeco\":2,\"versa\":2}\n",
    "\n",
    "print(len(mydict))\n",
    "type(mydict)"
   ]
  },
  {
   "cell_type": "code",
   "execution_count": 17,
   "id": "c54f148c-3f04-4153-a3e8-06114941f2b0",
   "metadata": {},
   "outputs": [
    {
     "data": {
      "text/plain": [
       "'Mustang'"
      ]
     },
     "execution_count": 17,
     "metadata": {},
     "output_type": "execute_result"
    }
   ],
   "source": [
    "mydict = {\n",
    "  \"brand\": \"Ford\",\n",
    "  \"model\": \"Mustang\",\n",
    "  \"year\": 1964\n",
    "}\n",
    "x = mydict.get(\"model\")\n",
    "x"
   ]
  },
  {
   "cell_type": "code",
   "execution_count": 21,
   "id": "a679f32e-90d3-4633-b824-e6a0473a0aa9",
   "metadata": {},
   "outputs": [
    {
     "name": "stdout",
     "output_type": "stream",
     "text": [
      "dict_keys(['brand', 'model', 'year'])\n"
     ]
    },
    {
     "data": {
      "text/plain": [
       "dict_values(['Ford', 'Mustang', 1964])"
      ]
     },
     "execution_count": 21,
     "metadata": {},
     "output_type": "execute_result"
    }
   ],
   "source": [
    "mydict = {\n",
    "  \"brand\": \"Ford\",\n",
    "  \"model\": \"Mustang\",\n",
    "  \"year\": 1964\n",
    "}\n",
    "\n",
    "print(mydict.keys())\n",
    "x = mydict.values()\n",
    "x"
   ]
  },
  {
   "cell_type": "code",
   "execution_count": 23,
   "id": "499b9f7c-8241-4095-89ba-802849f4ad98",
   "metadata": {},
   "outputs": [
    {
     "name": "stdout",
     "output_type": "stream",
     "text": [
      "dict_keys(['ford', 'eeco', 'versa'])\n",
      "dict_values([4, 2, 2])\n"
     ]
    }
   ],
   "source": [
    "mydict={\"ford\":4,\"eeco\":2,\"versa\":2}\n",
    "print(mydict.keys())\n",
    "print(mydict.values())\n"
   ]
  },
  {
   "cell_type": "code",
   "execution_count": 25,
   "id": "4b78cf7b-17b2-43bf-b257-a2f3a65f5605",
   "metadata": {},
   "outputs": [
    {
     "data": {
      "text/plain": [
       "{'ford': 4, 'eeco': 2, 'versa': 2, 'new': 'name'}"
      ]
     },
     "execution_count": 25,
     "metadata": {},
     "output_type": "execute_result"
    }
   ],
   "source": [
    "mydict[\"new\"]=\"name\"\n",
    "mydict"
   ]
  },
  {
   "cell_type": "code",
   "execution_count": 27,
   "id": "8ab3c40b-c42d-405e-8133-19d9afefa8c5",
   "metadata": {},
   "outputs": [
    {
     "data": {
      "text/plain": [
       "{'ford': 4, 'eeco': 2, 'versa': 2, 'new': 'name', 'new york': 7}"
      ]
     },
     "execution_count": 27,
     "metadata": {},
     "output_type": "execute_result"
    }
   ],
   "source": [
    "mydict[\"new york\"]=7\n",
    "mydict"
   ]
  },
  {
   "cell_type": "code",
   "execution_count": 29,
   "id": "03def5d3-cb6e-4800-82c2-afeebe1e6401",
   "metadata": {},
   "outputs": [
    {
     "data": {
      "text/plain": [
       "{'brand': 'Ford', 'model': 'Mustang', 'year': 1966}"
      ]
     },
     "execution_count": 29,
     "metadata": {},
     "output_type": "execute_result"
    }
   ],
   "source": [
    "mydict = {\n",
    "  \"brand\": \"Ford\",\n",
    "  \"model\": \"Mustang\",\n",
    "  \"year\": 1964\n",
    "}\n",
    "mydict.update({\"year\":1966})\n",
    "mydict"
   ]
  },
  {
   "cell_type": "code",
   "execution_count": 35,
   "id": "6247ac87-47d8-4113-8a22-b0bdd671bf08",
   "metadata": {},
   "outputs": [
    {
     "name": "stdout",
     "output_type": "stream",
     "text": [
      "{'brand': 'Ford', 'year': 1964}\n",
      "{'brand': 'Ford'}\n"
     ]
    }
   ],
   "source": [
    "mydict = {\n",
    "  \"brand\": \"Ford\",\n",
    "  \"model\": \"Mustang\",\n",
    "  \"year\": 1964\n",
    "}\n",
    "\n",
    "mydict.pop(\"model\")\n",
    "print(mydict)\n",
    "mydict.popitem()\n",
    "print(mydict)"
   ]
  },
  {
   "cell_type": "code",
   "execution_count": 37,
   "id": "6493acb2-3291-4b4a-b1b6-7ce691d5a910",
   "metadata": {},
   "outputs": [
    {
     "name": "stdout",
     "output_type": "stream",
     "text": [
      "{'brand': 'Ford', 'model': 'Mustang'}\n"
     ]
    }
   ],
   "source": [
    "thisdict = {\n",
    "  \"brand\": \"Ford\",\n",
    "  \"model\": \"Mustang\",\n",
    "  \"year\": 1964\n",
    "}\n",
    "thisdict.popitem()\n",
    "print(thisdict)"
   ]
  },
  {
   "cell_type": "code",
   "execution_count": 39,
   "id": "33f4cde5-7c48-4167-8e9e-b5f8d084a494",
   "metadata": {},
   "outputs": [
    {
     "name": "stdout",
     "output_type": "stream",
     "text": [
      "{'brand': 'Ford', 'model': 'Mustang'}\n"
     ]
    }
   ],
   "source": [
    "mydict = {\n",
    "  \"brand\": \"Ford\",\n",
    "  \"model\": \"Mustang\",\n",
    "  \"year\": 1964}\n",
    "\n",
    "del mydict[\"year\"]\n",
    "print(mydict)"
   ]
  },
  {
   "cell_type": "code",
   "execution_count": 43,
   "id": "abffc964-897f-4ff3-9bb2-925c61cdcf4e",
   "metadata": {},
   "outputs": [
    {
     "name": "stdout",
     "output_type": "stream",
     "text": [
      "{}\n"
     ]
    }
   ],
   "source": [
    "mydict = {\n",
    "  \"brand\": \"Ford\",\n",
    "  \"model\": \"Mustang\",\n",
    "  \"year\": 1964\n",
    "}\n",
    "mydict.clear()\n",
    "print(mydict)"
   ]
  },
  {
   "cell_type": "code",
   "execution_count": null,
   "id": "9bb8e902-30a3-4b67-9059-eb7fff147449",
   "metadata": {},
   "outputs": [],
   "source": []
  }
 ],
 "metadata": {
  "kernelspec": {
   "display_name": "Python [conda env:base] *",
   "language": "python",
   "name": "conda-base-py"
  },
  "language_info": {
   "codemirror_mode": {
    "name": "ipython",
    "version": 3
   },
   "file_extension": ".py",
   "mimetype": "text/x-python",
   "name": "python",
   "nbconvert_exporter": "python",
   "pygments_lexer": "ipython3",
   "version": "3.12.7"
  }
 },
 "nbformat": 4,
 "nbformat_minor": 5
}
