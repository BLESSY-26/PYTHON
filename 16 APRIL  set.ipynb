{
 "cells": [
  {
   "cell_type": "code",
   "execution_count": 1,
   "id": "15678d1d-4831-4d8e-866f-0723136a572e",
   "metadata": {},
   "outputs": [
    {
     "data": {
      "text/plain": [
       "{5, 8, 9, 90, False, True, 'apple', 'banana', 'kiwi'}"
      ]
     },
     "execution_count": 1,
     "metadata": {},
     "output_type": "execute_result"
    }
   ],
   "source": [
    "myset={\"apple\",\"kiwi\",\"banana\", False, True, 1,0,5,9,90,8,90}\n",
    "myset"
   ]
  },
  {
   "cell_type": "code",
   "execution_count": 3,
   "id": "aa958e87-37f2-4c8e-a277-aaa84c19a78c",
   "metadata": {},
   "outputs": [
    {
     "name": "stdout",
     "output_type": "stream",
     "text": [
      "9\n"
     ]
    }
   ],
   "source": [
    "print(len(myset))"
   ]
  },
  {
   "cell_type": "code",
   "execution_count": 5,
   "id": "7493978b-c9c0-4f06-903f-7798edce0577",
   "metadata": {},
   "outputs": [
    {
     "data": {
      "text/plain": [
       "{1, 2, 3, 4, 32}"
      ]
     },
     "execution_count": 5,
     "metadata": {},
     "output_type": "execute_result"
    }
   ],
   "source": [
    "d={1,2,32,1,3,4,3,4}\n",
    "d"
   ]
  },
  {
   "cell_type": "code",
   "execution_count": 7,
   "id": "2430b06d-0f46-468d-b92a-17f9d857554e",
   "metadata": {},
   "outputs": [
    {
     "data": {
      "text/plain": [
       "{1, 2, 3, 454}"
      ]
     },
     "execution_count": 7,
     "metadata": {},
     "output_type": "execute_result"
    }
   ],
   "source": [
    "mylist=[1,2,2,2,3,454]\n",
    "myset=set(mylist)\n",
    "myset"
   ]
  },
  {
   "cell_type": "code",
   "execution_count": 9,
   "id": "c6433336-32d2-4ef5-8d60-605ea7d4a981",
   "metadata": {},
   "outputs": [
    {
     "data": {
      "text/plain": [
       "{0, 'apple', 'banana', 'cherry'}"
      ]
     },
     "execution_count": 9,
     "metadata": {},
     "output_type": "execute_result"
    }
   ],
   "source": [
    "myset = {\"apple\", \"banana\", \"cherry\"}\n",
    "myset.add(0)\n",
    "myset\n"
   ]
  },
  {
   "cell_type": "code",
   "execution_count": 11,
   "id": "0659592b-9f5e-49a1-b522-7f82978bec7b",
   "metadata": {},
   "outputs": [
    {
     "data": {
      "text/plain": [
       "{9, 'apple', 'banana', 'cherry'}"
      ]
     },
     "execution_count": 11,
     "metadata": {},
     "output_type": "execute_result"
    }
   ],
   "source": [
    "myset = {\"apple\", \"banana\", \"cherry\"}\n",
    "myset.add(9)\n",
    "myset"
   ]
  },
  {
   "cell_type": "code",
   "execution_count": 13,
   "id": "cb45872b-f42f-4d7e-a093-a8f01a561e7b",
   "metadata": {},
   "outputs": [
    {
     "data": {
      "text/plain": [
       "{'apple', 'banana', 'cherry', 'mango', 'papaya', 'pineapple'}"
      ]
     },
     "execution_count": 13,
     "metadata": {},
     "output_type": "execute_result"
    }
   ],
   "source": [
    "myset = {\"apple\", \"banana\", \"cherry\"}\n",
    "myset1 = {\"pineapple\", \"mango\", \"papaya\"}\n",
    "myset.update(myset1)\n",
    "myset"
   ]
  },
  {
   "cell_type": "code",
   "execution_count": 15,
   "id": "eb4f7173-695a-4e6b-9b9b-cf96a55038b3",
   "metadata": {},
   "outputs": [
    {
     "data": {
      "text/plain": [
       "{'apple', 'banana'}"
      ]
     },
     "execution_count": 15,
     "metadata": {},
     "output_type": "execute_result"
    }
   ],
   "source": [
    "myset = {\"apple\", \"banana\", \"cherry\"}\n",
    "myset.remove(\"cherry\")\n",
    "myset"
   ]
  },
  {
   "cell_type": "code",
   "execution_count": 21,
   "id": "ea82b22c-5411-48ef-b16c-58ec24734ad8",
   "metadata": {},
   "outputs": [
    {
     "name": "stdout",
     "output_type": "stream",
     "text": [
      "{'apple', 'hi', 678, 'banana'}\n",
      "apple\n",
      "{'hi', 678, 'banana'}\n"
     ]
    }
   ],
   "source": [
    "myset = { \"banana\",\"apple\",\"hi\",678}\n",
    "print(myset)\n",
    "x=myset.pop()\n",
    "print(x)\n",
    "print(myset)"
   ]
  },
  {
   "cell_type": "code",
   "execution_count": 19,
   "id": "61ec9fd4-c305-44c4-b86d-e4db02a49b9e",
   "metadata": {},
   "outputs": [
    {
     "name": "stdout",
     "output_type": "stream",
     "text": [
      "{0, 678, 'banana', 'apple', 'hi'}\n",
      "0\n"
     ]
    }
   ],
   "source": [
    "myset = { \"banana\",\"apple\",0,\"hi\",678}\n",
    "print(myset)\n",
    "x=myset.pop()\n",
    "print(x)"
   ]
  },
  {
   "cell_type": "code",
   "execution_count": 29,
   "id": "3e2b6fd9-0e8c-45bf-b6a7-d769057af6f3",
   "metadata": {},
   "outputs": [
    {
     "ename": "NameError",
     "evalue": "name 'myset' is not defined",
     "output_type": "error",
     "traceback": [
      "\u001b[1;31m---------------------------------------------------------------------------\u001b[0m",
      "\u001b[1;31mNameError\u001b[0m                                 Traceback (most recent call last)",
      "Cell \u001b[1;32mIn[29], line 3\u001b[0m\n\u001b[0;32m      1\u001b[0m myset \u001b[38;5;241m=\u001b[39m {\u001b[38;5;124m\"\u001b[39m\u001b[38;5;124mapple\u001b[39m\u001b[38;5;124m\"\u001b[39m, \u001b[38;5;124m\"\u001b[39m\u001b[38;5;124mbanana\u001b[39m\u001b[38;5;124m\"\u001b[39m, \u001b[38;5;124m\"\u001b[39m\u001b[38;5;124mcherry\u001b[39m\u001b[38;5;124m\"\u001b[39m}\n\u001b[0;32m      2\u001b[0m \u001b[38;5;28;01mdel\u001b[39;00m myset\n\u001b[1;32m----> 3\u001b[0m \u001b[38;5;28mprint\u001b[39m(myset)\n",
      "\u001b[1;31mNameError\u001b[0m: name 'myset' is not defined"
     ]
    }
   ],
   "source": [
    "myset = {\"apple\", \"banana\", \"cherry\"}\n",
    "del myset\n",
    "print(myset)"
   ]
  },
  {
   "cell_type": "code",
   "execution_count": null,
   "id": "ac2d3a32-333d-4e5f-8af1-02237f1596b6",
   "metadata": {},
   "outputs": [],
   "source": []
  },
  {
   "cell_type": "code",
   "execution_count": null,
   "id": "5234c598-81b9-4372-b842-68a1e2e91bd5",
   "metadata": {},
   "outputs": [],
   "source": []
  }
 ],
 "metadata": {
  "kernelspec": {
   "display_name": "Python [conda env:base] *",
   "language": "python",
   "name": "conda-base-py"
  },
  "language_info": {
   "codemirror_mode": {
    "name": "ipython",
    "version": 3
   },
   "file_extension": ".py",
   "mimetype": "text/x-python",
   "name": "python",
   "nbconvert_exporter": "python",
   "pygments_lexer": "ipython3",
   "version": "3.12.7"
  }
 },
 "nbformat": 4,
 "nbformat_minor": 5
}
