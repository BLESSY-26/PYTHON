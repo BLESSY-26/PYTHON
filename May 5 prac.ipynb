{
 "cells": [
  {
   "cell_type": "code",
   "execution_count": 1,
   "id": "20a51a16-e1a3-44c6-bf7d-31e59a0008d8",
   "metadata": {},
   "outputs": [],
   "source": [
    "import numpy as np"
   ]
  },
  {
   "cell_type": "code",
   "execution_count": 3,
   "id": "0b5f93d4-cb50-400d-8ce0-4452f7e9c95b",
   "metadata": {},
   "outputs": [
    {
     "name": "stdout",
     "output_type": "stream",
     "text": [
      "[1 2 3]\n"
     ]
    }
   ],
   "source": [
    "a= np.array([1,2,3])\n",
    "print(a)"
   ]
  },
  {
   "cell_type": "code",
   "execution_count": 5,
   "id": "966cc95f-5469-4b82-8f04-79a5fe604814",
   "metadata": {},
   "outputs": [
    {
     "name": "stdout",
     "output_type": "stream",
     "text": [
      "<class 'numpy.ndarray'>\n"
     ]
    }
   ],
   "source": [
    "print(type(a))"
   ]
  },
  {
   "cell_type": "code",
   "execution_count": 7,
   "id": "0866d702-e61b-478c-8a93-0a95d0d34699",
   "metadata": {},
   "outputs": [
    {
     "name": "stdout",
     "output_type": "stream",
     "text": [
      "1\n"
     ]
    }
   ],
   "source": [
    "a=np.array([1,2,3])\n",
    "print(a.ndim)"
   ]
  },
  {
   "cell_type": "code",
   "execution_count": 11,
   "id": "7ea04fe5-fa49-4ac4-a3dd-f4835592b01d",
   "metadata": {},
   "outputs": [
    {
     "name": "stdout",
     "output_type": "stream",
     "text": [
      "0\n"
     ]
    }
   ],
   "source": [
    "a=np.array(23)\n",
    "print(a.ndim)"
   ]
  },
  {
   "cell_type": "code",
   "execution_count": 19,
   "id": "311ef8e8-9da8-459b-9ff4-ac44f77985ea",
   "metadata": {},
   "outputs": [
    {
     "name": "stdout",
     "output_type": "stream",
     "text": [
      "2\n"
     ]
    }
   ],
   "source": [
    "a=np.array([[1,2,3],[1,23,3]])\n",
    "print(a.ndim)"
   ]
  },
  {
   "cell_type": "code",
   "execution_count": 21,
   "id": "d67b99ee-488f-43d6-adae-72ab3719d56f",
   "metadata": {},
   "outputs": [
    {
     "name": "stdout",
     "output_type": "stream",
     "text": [
      "2\n"
     ]
    }
   ],
   "source": [
    "a=np.array([[1,2,3],[1,2,3]])\n",
    "print(a.ndim)"
   ]
  },
  {
   "cell_type": "code",
   "execution_count": 27,
   "id": "fc78c7e8-65b5-4797-919d-96cc72078b73",
   "metadata": {},
   "outputs": [
    {
     "name": "stdout",
     "output_type": "stream",
     "text": [
      "3\n"
     ]
    }
   ],
   "source": [
    "a=np.array([[[1,24,4],[1,23,22]],[[2,3,5],[23,53,23]]])\n",
    "print(a.ndim)"
   ]
  },
  {
   "cell_type": "code",
   "execution_count": 45,
   "id": "7ad096da-edbe-4b5a-8017-070e1981061c",
   "metadata": {},
   "outputs": [
    {
     "data": {
      "text/plain": [
       "5"
      ]
     },
     "execution_count": 45,
     "metadata": {},
     "output_type": "execute_result"
    }
   ],
   "source": [
    "a=np.array([[[1,24,4],[10,29,22]],[[2,3,5],[83,53,23]]])\n",
    "a[1][0][2]"
   ]
  },
  {
   "cell_type": "code",
   "execution_count": 41,
   "id": "dc34ea3f-7000-4fc8-918d-ad3a0af3a2cb",
   "metadata": {},
   "outputs": [
    {
     "name": "stdout",
     "output_type": "stream",
     "text": [
      "9\n"
     ]
    }
   ],
   "source": [
    "a = np.array([[1,8],[5,9]])\n",
    "print(a[1,1])"
   ]
  },
  {
   "cell_type": "code",
   "execution_count": 47,
   "id": "3f056409-71f0-4f76-94bd-7e5888c9a16d",
   "metadata": {},
   "outputs": [
    {
     "name": "stdout",
     "output_type": "stream",
     "text": [
      "53\n"
     ]
    }
   ],
   "source": [
    "a=np.array([[[1,24,4],[10,29,22]],[[2,3,5],[83,53,23]]])\n",
    "print(a[1][1][1])"
   ]
  },
  {
   "cell_type": "code",
   "execution_count": 49,
   "id": "52fe27a0-5695-481c-b377-4806446d3d2d",
   "metadata": {},
   "outputs": [
    {
     "name": "stdout",
     "output_type": "stream",
     "text": [
      "3\n"
     ]
    }
   ],
   "source": [
    "a=np.array([[[4,6,2],[2,3,4]],[[3,4,2],[2,4,2]]])\n",
    "print(a.ndim)"
   ]
  },
  {
   "cell_type": "code",
   "execution_count": 51,
   "id": "f4db9243-a2d6-4b9e-aed4-542be72b46fe",
   "metadata": {},
   "outputs": [
    {
     "name": "stdout",
     "output_type": "stream",
     "text": [
      "[2 3 4 5]\n"
     ]
    }
   ],
   "source": [
    "a = np.array([1, 2, 3, 4, 5, 6, 7])\n",
    "\n",
    "print(a[1:5])"
   ]
  },
  {
   "cell_type": "code",
   "execution_count": 53,
   "id": "3ff2a412-fe37-4091-9771-271b54ba2166",
   "metadata": {},
   "outputs": [
    {
     "name": "stdout",
     "output_type": "stream",
     "text": [
      "[1 2 3 4 5 6]\n"
     ]
    }
   ],
   "source": [
    "a = np.array([1, 2, 3, 4, 5, 6, 7])\n",
    "print(a[0:6])"
   ]
  },
  {
   "cell_type": "code",
   "execution_count": 55,
   "id": "f483046d-9a47-436c-9252-d0fabfbd0ea1",
   "metadata": {},
   "outputs": [
    {
     "name": "stdout",
     "output_type": "stream",
     "text": [
      "[5 6 7]\n"
     ]
    }
   ],
   "source": [
    "b = np.array([1, 2, 3, 4, 5, 6, 7])\n",
    "\n",
    "print(b[4:])"
   ]
  },
  {
   "cell_type": "code",
   "execution_count": 57,
   "id": "892751d4-e5e9-4451-b368-b41f8dcc779a",
   "metadata": {},
   "outputs": [
    {
     "name": "stdout",
     "output_type": "stream",
     "text": [
      "[4 5 6 7]\n"
     ]
    }
   ],
   "source": [
    "b = np.array([1, 2, 3, 4, 5, 6, 7])\n",
    "print(b[3:])"
   ]
  },
  {
   "cell_type": "code",
   "execution_count": 59,
   "id": "d8d448e7-4624-4f79-a6dc-deefae1de62d",
   "metadata": {},
   "outputs": [
    {
     "name": "stdout",
     "output_type": "stream",
     "text": [
      "[5 6]\n"
     ]
    }
   ],
   "source": [
    "arr = np.array([1, 2, 3, 4, 5, 6, 7])\n",
    "\n",
    "print(arr[-3:-1])"
   ]
  },
  {
   "cell_type": "code",
   "execution_count": 61,
   "id": "3bbdf679-74c0-4e22-8372-4c09ac3413d9",
   "metadata": {},
   "outputs": [
    {
     "name": "stdout",
     "output_type": "stream",
     "text": [
      "[4 5]\n"
     ]
    }
   ],
   "source": [
    "arr = np.array([1, 2, 3, 4, 5, 6, 7])\n",
    "print(arr[-4:-2])"
   ]
  },
  {
   "cell_type": "code",
   "execution_count": 63,
   "id": "ed2fb7e0-4787-42ad-ade4-4831c5a7bd32",
   "metadata": {},
   "outputs": [
    {
     "name": "stdout",
     "output_type": "stream",
     "text": [
      "[1 3 5]\n"
     ]
    }
   ],
   "source": [
    "arr = np.array([1, 2, 3, 4, 5, 6, 7])\n",
    "\n",
    "print(arr[:-1:2])"
   ]
  },
  {
   "cell_type": "code",
   "execution_count": 71,
   "id": "31ea581f-8cc8-45c3-b9ba-638a6df7568a",
   "metadata": {},
   "outputs": [
    {
     "name": "stdout",
     "output_type": "stream",
     "text": [
      "[1]\n"
     ]
    }
   ],
   "source": [
    "arr = np.array([1, 2, 3, 4, 5, 6, 7])\n",
    "\n",
    "print(arr[:-2:6])"
   ]
  },
  {
   "cell_type": "code",
   "execution_count": 73,
   "id": "b20b8022-317e-4e02-a4c2-46b1cf6f4598",
   "metadata": {},
   "outputs": [
    {
     "data": {
      "text/plain": [
       "12"
      ]
     },
     "execution_count": 73,
     "metadata": {},
     "output_type": "execute_result"
    }
   ],
   "source": [
    "d = np.array([[[1, 2, 3, 4, 5],[6,7,8,9,10]],[[11, 12, 13, 14, 15],[16,17,18,19,20]]])\n",
    "d[1,0,1]"
   ]
  },
  {
   "cell_type": "code",
   "execution_count": null,
   "id": "bf992971-f813-4cde-acd5-85fb268f4ed6",
   "metadata": {},
   "outputs": [],
   "source": []
  }
 ],
 "metadata": {
  "kernelspec": {
   "display_name": "Python [conda env:base] *",
   "language": "python",
   "name": "conda-base-py"
  },
  "language_info": {
   "codemirror_mode": {
    "name": "ipython",
    "version": 3
   },
   "file_extension": ".py",
   "mimetype": "text/x-python",
   "name": "python",
   "nbconvert_exporter": "python",
   "pygments_lexer": "ipython3",
   "version": "3.12.7"
  }
 },
 "nbformat": 4,
 "nbformat_minor": 5
}
