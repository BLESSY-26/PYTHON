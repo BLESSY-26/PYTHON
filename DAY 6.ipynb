{
 "cells": [
  {
   "cell_type": "code",
   "execution_count": 13,
   "id": "7590efb7-c67d-4fe9-a99d-943553276298",
   "metadata": {},
   "outputs": [
    {
     "name": "stdout",
     "output_type": "stream",
     "text": [
      "a is greater\n"
     ]
    }
   ],
   "source": [
    "a=100\n",
    "b=50\n",
    "c=20\n",
    "if a>b and a>c:\n",
    "    print(\"a is greater\")\n",
    "elif b>a and b>c:\n",
    "    print(\"b is greater\")\n",
    "else: \n",
    "    print(\"c is greater\")"
   ]
  },
  {
   "cell_type": "code",
   "execution_count": null,
   "id": "ab3f292c-ed58-45fb-838e-fbae54154758",
   "metadata": {},
   "outputs": [],
   "source": [
    "LIST"
   ]
  },
  {
   "cell_type": "code",
   "execution_count": 25,
   "id": "41a0e479-69da-4a6a-bf71-2ac47b0a90a9",
   "metadata": {},
   "outputs": [
    {
     "name": "stdout",
     "output_type": "stream",
     "text": [
      "[3, 4]\n"
     ]
    }
   ],
   "source": [
    "L=[1,2,3,4,5]\n",
    "print(L[2:4])"
   ]
  },
  {
   "cell_type": "code",
   "execution_count": 33,
   "id": "e5949e2c-7199-4b96-8662-e35d2a4e52dc",
   "metadata": {},
   "outputs": [
    {
     "name": "stdout",
     "output_type": "stream",
     "text": [
      "[5, 3, 5, 66, 5]\n"
     ]
    }
   ],
   "source": [
    "L=[5,3,5,3,5]\n",
    "L[3]=66\n",
    "print(L)"
   ]
  },
  {
   "cell_type": "code",
   "execution_count": 39,
   "id": "f56fcccf-0c03-480c-94b8-8cecc4a038ee",
   "metadata": {},
   "outputs": [
    {
     "name": "stdout",
     "output_type": "stream",
     "text": [
      "[5, 3, 5, 3, 5, 20]\n",
      "[5, 3, 4, 5, 3, 5, 20]\n"
     ]
    }
   ],
   "source": [
    "L=[5,3,5,3,5]\n",
    "L.append(20)\n",
    "print(L)\n",
    "L.insert(2,4)\n",
    "print(L)"
   ]
  },
  {
   "cell_type": "code",
   "execution_count": 47,
   "id": "ca0b4365-0ef4-4504-8c18-8168110c662b",
   "metadata": {},
   "outputs": [
    {
     "name": "stdout",
     "output_type": "stream",
     "text": [
      "[5, 3, 8, 9]\n",
      "[5, 3, 8]\n",
      "[5, 3]\n"
     ]
    }
   ],
   "source": [
    "L=[5,3,8,9,10]\n",
    "L.pop()\n",
    "print(L)\n",
    "L.pop(3)\n",
    "print(L)\n",
    "L.remove(8)\n",
    "print(L)"
   ]
  },
  {
   "cell_type": "code",
   "execution_count": null,
   "id": "feab6b36-f145-41e7-b793-981cfe1d0a38",
   "metadata": {},
   "outputs": [],
   "source": []
  }
 ],
 "metadata": {
  "kernelspec": {
   "display_name": "Python [conda env:base] *",
   "language": "python",
   "name": "conda-base-py"
  },
  "language_info": {
   "codemirror_mode": {
    "name": "ipython",
    "version": 3
   },
   "file_extension": ".py",
   "mimetype": "text/x-python",
   "name": "python",
   "nbconvert_exporter": "python",
   "pygments_lexer": "ipython3",
   "version": "3.12.7"
  }
 },
 "nbformat": 4,
 "nbformat_minor": 5
}
