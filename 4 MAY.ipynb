{
 "cells": [
  {
   "cell_type": "code",
   "execution_count": 7,
   "id": "e8262635-e6d5-4887-b504-8630c7f751da",
   "metadata": {},
   "outputs": [
    {
     "name": "stdin",
     "output_type": "stream",
     "text": [
      "enter the number 3\n",
      "enter the number 5\n",
      "enter the number 7\n"
     ]
    },
    {
     "name": "stdout",
     "output_type": "stream",
     "text": [
      "0.6\n"
     ]
    },
    {
     "ename": "TypeError",
     "evalue": "error.zerodiv() takes 0 positional arguments but 1 was given",
     "output_type": "error",
     "traceback": [
      "\u001b[1;31m---------------------------------------------------------------------------\u001b[0m",
      "\u001b[1;31mTypeError\u001b[0m                                 Traceback (most recent call last)",
      "Cell \u001b[1;32mIn[7], line 39\u001b[0m\n\u001b[0;32m     37\u001b[0m obj1\u001b[38;5;241m=\u001b[39merror()\n\u001b[0;32m     38\u001b[0m obj1\u001b[38;5;241m.\u001b[39mdiv()\n\u001b[1;32m---> 39\u001b[0m obj1\u001b[38;5;241m.\u001b[39mzerodiv()\n",
      "\u001b[1;31mTypeError\u001b[0m: error.zerodiv() takes 0 positional arguments but 1 was given"
     ]
    }
   ],
   "source": [
    "class calcula():\n",
    "    def _init_(self,a,b,c):\n",
    "        self.a=a\n",
    "        self.b=b\n",
    "        self.c=c\n",
    "\n",
    "    def add(self):\n",
    "        print(a+b)\n",
    "    def sub(self):\n",
    "        print(a-b)\n",
    "    def mul(self):\n",
    "        print(a*b)\n",
    "    def div(self):\n",
    "        print(a/b)\n",
    "\n",
    "class error(calcula):\n",
    "    def zerodiv():\n",
    "        try:\n",
    "            x=10\n",
    "            y=0\n",
    "            print(x/y)\n",
    "        except ZeroDivisionError:\n",
    "            print(\"ZeroDivisionError\")\n",
    "\n",
    "    def nameerror():\n",
    "        try:\n",
    "            x=5\n",
    "            y=2\n",
    "            print(c)\n",
    "        except nameerror:\n",
    "            print(\"NameError\")\n",
    "\n",
    "a=int(input(\"enter the number\"))\n",
    "b=int(input(\"enter the number\"))\n",
    "c=int(input(\"enter the number\"))\n",
    "\n",
    "obj1=error()\n",
    "obj1.div()\n",
    "obj1.zerodiv()"
   ]
  },
  {
   "cell_type": "code",
   "execution_count": null,
   "id": "a630d875-82c1-459c-9997-69708afd2bfc",
   "metadata": {},
   "outputs": [],
   "source": []
  }
 ],
 "metadata": {
  "kernelspec": {
   "display_name": "Python [conda env:base] *",
   "language": "python",
   "name": "conda-base-py"
  },
  "language_info": {
   "codemirror_mode": {
    "name": "ipython",
    "version": 3
   },
   "file_extension": ".py",
   "mimetype": "text/x-python",
   "name": "python",
   "nbconvert_exporter": "python",
   "pygments_lexer": "ipython3",
   "version": "3.12.7"
  }
 },
 "nbformat": 4,
 "nbformat_minor": 5
}
