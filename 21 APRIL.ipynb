{
 "cells": [
  {
   "cell_type": "code",
   "execution_count": 1,
   "id": "18ff6be0-bd0d-4dce-bbba-d73cff17e3d3",
   "metadata": {},
   "outputs": [
    {
     "name": "stdout",
     "output_type": "stream",
     "text": [
      "1\n",
      "1\n",
      "2\n",
      "33\n",
      "43\n",
      "56\n",
      "33\n"
     ]
    }
   ],
   "source": [
    "l= [1,1,2,33,43,56,33]\n",
    "d= {}\n",
    "\n",
    "for i in l:\n",
    "    print(i)"
   ]
  },
  {
   "cell_type": "code",
   "execution_count": 5,
   "id": "f79ba4c6-e0bd-4fc9-8b49-2ace0f67a6d5",
   "metadata": {},
   "outputs": [
    {
     "name": "stdout",
     "output_type": "stream",
     "text": [
      "{1: 2, 2: 1, 33: 2, 43: 1, 56: 1}\n"
     ]
    }
   ],
   "source": [
    "l= [1,1,2,33,43,56,33]\n",
    "d= {}\n",
    "\n",
    "for i in l:\n",
    "    if i not in d:\n",
    "        d[i]=1\n",
    "    else:\n",
    "        d[i]+=1 #d[i]=d[i]+1\n",
    "print(d)"
   ]
  },
  {
   "cell_type": "code",
   "execution_count": null,
   "id": "fca5aa50-1e79-4f4a-897c-b1b701605a9a",
   "metadata": {},
   "outputs": [],
   "source": []
  }
 ],
 "metadata": {
  "kernelspec": {
   "display_name": "Python [conda env:base] *",
   "language": "python",
   "name": "conda-base-py"
  },
  "language_info": {
   "codemirror_mode": {
    "name": "ipython",
    "version": 3
   },
   "file_extension": ".py",
   "mimetype": "text/x-python",
   "name": "python",
   "nbconvert_exporter": "python",
   "pygments_lexer": "ipython3",
   "version": "3.12.7"
  }
 },
 "nbformat": 4,
 "nbformat_minor": 5
}
