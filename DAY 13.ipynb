{
 "cells": [
  {
   "cell_type": "code",
   "execution_count": 9,
   "id": "94252400-d66b-4d25-baea-52052119ee81",
   "metadata": {},
   "outputs": [],
   "source": [
    "def add(a,b):\n",
    "    c=a+b\n",
    "    print(c)"
   ]
  },
  {
   "cell_type": "code",
   "execution_count": 1,
   "id": "902dda42-97a9-46ed-81b4-eb3eec586bbc",
   "metadata": {},
   "outputs": [
    {
     "name": "stdout",
     "output_type": "stream",
     "text": [
      "11\n"
     ]
    }
   ],
   "source": [
    "def add(a,b):\n",
    "    c=a+b\n",
    "    print(c)\n",
    "add(5,6)"
   ]
  },
  {
   "cell_type": "code",
   "execution_count": 3,
   "id": "d4bf189c-1695-4ce2-98b5-0fadd1bd79cf",
   "metadata": {},
   "outputs": [
    {
     "name": "stdout",
     "output_type": "stream",
     "text": [
      "11\n"
     ]
    }
   ],
   "source": [
    "def add(a,b):\n",
    "    c=a+b\n",
    "    print(c)\n",
    "k= add(5,6)"
   ]
  },
  {
   "cell_type": "code",
   "execution_count": 39,
   "id": "7572e559-d735-415b-9111-cdde6f2c75ac",
   "metadata": {},
   "outputs": [
    {
     "name": "stdout",
     "output_type": "stream",
     "text": [
      "6\n"
     ]
    }
   ],
   "source": [
    "def add(a,b):\n",
    "    c=a+b\n",
    "    return c\n",
    "k=add(2,4)\n",
    "print(k)"
   ]
  },
  {
   "cell_type": "code",
   "execution_count": 53,
   "id": "dc7c26c3-e9c0-4962-8623-07ffe5c68d2c",
   "metadata": {},
   "outputs": [
    {
     "name": "stdout",
     "output_type": "stream",
     "text": [
      "4\n"
     ]
    }
   ],
   "source": [
    "def sub(a,b):\n",
    "    c=a-b\n",
    "    return c\n",
    "k1=sub(6,2)\n",
    "print(k1)"
   ]
  },
  {
   "cell_type": "code",
   "execution_count": 47,
   "id": "c2a32011-23b0-4cea-a954-faf695cca309",
   "metadata": {},
   "outputs": [
    {
     "name": "stdout",
     "output_type": "stream",
     "text": [
      "28\n"
     ]
    }
   ],
   "source": [
    "def mul(a,b):\n",
    "    c=a*b\n",
    "    return c\n",
    "k2=mul(4,7)\n",
    "print(k2)"
   ]
  },
  {
   "cell_type": "code",
   "execution_count": 49,
   "id": "1f1bf244-caf1-4961-bf23-82f7f3205fb3",
   "metadata": {},
   "outputs": [
    {
     "name": "stdout",
     "output_type": "stream",
     "text": [
      "3.0\n"
     ]
    }
   ],
   "source": [
    "def div(a,b):\n",
    "    c=a/b\n",
    "    return c\n",
    "k3=div(6,2)\n",
    "print(k3)"
   ]
  },
  {
   "cell_type": "code",
   "execution_count": null,
   "id": "b085be37-3bbe-43a0-b4ab-22c0fc25a36c",
   "metadata": {},
   "outputs": [],
   "source": []
  }
 ],
 "metadata": {
  "kernelspec": {
   "display_name": "Python [conda env:base] *",
   "language": "python",
   "name": "conda-base-py"
  },
  "language_info": {
   "codemirror_mode": {
    "name": "ipython",
    "version": 3
   },
   "file_extension": ".py",
   "mimetype": "text/x-python",
   "name": "python",
   "nbconvert_exporter": "python",
   "pygments_lexer": "ipython3",
   "version": "3.12.7"
  }
 },
 "nbformat": 4,
 "nbformat_minor": 5
}
