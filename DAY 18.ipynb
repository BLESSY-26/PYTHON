{
 "cells": [
  {
   "cell_type": "code",
   "execution_count": 9,
   "id": "456bfaee-d45c-4ecc-8fdb-3e3b5a69ca92",
   "metadata": {},
   "outputs": [
    {
     "name": "stdout",
     "output_type": "stream",
     "text": [
      "guug\n",
      "22\n"
     ]
    }
   ],
   "source": [
    "class teacher:\n",
    "    def __init__(self,name,age,dept):\n",
    "        self.name=name\n",
    "        self.age=age\n",
    "        self.dept=dept\n",
    "    def details(self):\n",
    "        print(self.age)\n",
    "\n",
    "class student(teacher):\n",
    "    def show(self):\n",
    "        print(self.dept)\n",
    "t1=student(\"samy\",22,\"guug\")\n",
    "t1.show()\n",
    "t1.details()       "
   ]
  },
  {
   "cell_type": "code",
   "execution_count": null,
   "id": "502c8ad7-d00a-4eb6-a609-72c3ba043fc0",
   "metadata": {},
   "outputs": [],
   "source": []
  }
 ],
 "metadata": {
  "kernelspec": {
   "display_name": "Python [conda env:base] *",
   "language": "python",
   "name": "conda-base-py"
  },
  "language_info": {
   "codemirror_mode": {
    "name": "ipython",
    "version": 3
   },
   "file_extension": ".py",
   "mimetype": "text/x-python",
   "name": "python",
   "nbconvert_exporter": "python",
   "pygments_lexer": "ipython3",
   "version": "3.12.7"
  }
 },
 "nbformat": 4,
 "nbformat_minor": 5
}
