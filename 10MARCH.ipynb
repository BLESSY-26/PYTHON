{
 "cells": [
  {
   "cell_type": "code",
   "execution_count": null,
   "id": "64f560cf-6819-4037-935b-0a6e6cd26768",
   "metadata": {},
   "outputs": [],
   "source": [
    "LOGICAL OPERATORS"
   ]
  },
  {
   "cell_type": "code",
   "execution_count": 1,
   "id": "2c9bbc58-9b7c-42b7-a1b5-f5984e6a4aa3",
   "metadata": {},
   "outputs": [
    {
     "name": "stdout",
     "output_type": "stream",
     "text": [
      "False\n"
     ]
    }
   ],
   "source": [
    "a= 10\n",
    "print(a>8 and a>11)"
   ]
  },
  {
   "cell_type": "code",
   "execution_count": 3,
   "id": "b3a22972-0cfa-40a9-b87e-e2634a6e04ac",
   "metadata": {},
   "outputs": [
    {
     "name": "stdout",
     "output_type": "stream",
     "text": [
      "True\n"
     ]
    }
   ],
   "source": [
    "a= 10\n",
    "print(a>8 or a>11)"
   ]
  },
  {
   "cell_type": "code",
   "execution_count": 5,
   "id": "762f3197-afaf-4fda-8f61-1116b7a5a562",
   "metadata": {},
   "outputs": [
    {
     "name": "stdout",
     "output_type": "stream",
     "text": [
      "True\n"
     ]
    }
   ],
   "source": [
    "a=12\n",
    "b=17\n",
    "print(a<b and b>a)"
   ]
  },
  {
   "cell_type": "code",
   "execution_count": 7,
   "id": "f8585a58-7d37-4712-b90e-3a4f9a8f39ab",
   "metadata": {},
   "outputs": [
    {
     "name": "stdout",
     "output_type": "stream",
     "text": [
      "True\n"
     ]
    }
   ],
   "source": [
    "a=12\n",
    "b=17\n",
    "print(a>b or b>a)"
   ]
  },
  {
   "cell_type": "code",
   "execution_count": 9,
   "id": "3677f7ee-78b6-47eb-a17b-7c92d43de078",
   "metadata": {},
   "outputs": [
    {
     "name": "stdout",
     "output_type": "stream",
     "text": [
      "False\n"
     ]
    }
   ],
   "source": [
    "a=12\n",
    "b=17\n",
    "print(not(a>b or b>a))"
   ]
  },
  {
   "cell_type": "code",
   "execution_count": null,
   "id": "5777043c-9476-4acd-9d64-b40c2db62648",
   "metadata": {},
   "outputs": [],
   "source": [
    "IDENTITY OPERATORS"
   ]
  },
  {
   "cell_type": "code",
   "execution_count": 19,
   "id": "ef25ac21-6844-44aa-8aa5-5a7705318940",
   "metadata": {},
   "outputs": [
    {
     "name": "stdout",
     "output_type": "stream",
     "text": [
      "True\n"
     ]
    }
   ],
   "source": [
    "a=[\"apple\"]\n",
    "b=[\"fish\"]\n",
    "x=a\n",
    "print(x is a)"
   ]
  },
  {
   "cell_type": "code",
   "execution_count": 21,
   "id": "903b5d7c-04c7-4295-85d8-7a8351a894fa",
   "metadata": {},
   "outputs": [
    {
     "name": "stdout",
     "output_type": "stream",
     "text": [
      "False\n",
      "True\n",
      "True\n"
     ]
    }
   ],
   "source": [
    "a=[\"apple\"]\n",
    "b=[\"fish\"]\n",
    "x = a\n",
    "print(a is b)\n",
    "print(a is x)\n",
    "print(x is a)\n"
   ]
  },
  {
   "cell_type": "code",
   "execution_count": 23,
   "id": "613bb435-749c-4090-8b01-13084c635d7f",
   "metadata": {},
   "outputs": [
    {
     "name": "stdout",
     "output_type": "stream",
     "text": [
      "False\n",
      "True\n",
      "True\n",
      "False\n"
     ]
    }
   ],
   "source": [
    "a=[\"apple\"]\n",
    "b=[\"fish\"]\n",
    "x = a\n",
    "print(a is b)\n",
    "print(a is x)\n",
    "print(x is a)\n",
    "print(a==b)"
   ]
  },
  {
   "cell_type": "code",
   "execution_count": 25,
   "id": "94b04aa2-f781-49c2-8288-0c1f391ad643",
   "metadata": {},
   "outputs": [
    {
     "name": "stdout",
     "output_type": "stream",
     "text": [
      "True\n"
     ]
    }
   ],
   "source": [
    "a=250\n",
    "b=250\n",
    "print(a is b)"
   ]
  },
  {
   "cell_type": "code",
   "execution_count": 27,
   "id": "47a642aa-5bb1-4806-9fe1-846931d4f2a4",
   "metadata": {},
   "outputs": [
    {
     "name": "stdout",
     "output_type": "stream",
     "text": [
      "True\n",
      "False\n"
     ]
    }
   ],
   "source": [
    "a=250\n",
    "b=250\n",
    "print(a is b)\n",
    "print ( a is not b)"
   ]
  },
  {
   "cell_type": "code",
   "execution_count": null,
   "id": "a0b10092-e7d2-4152-96ca-fd38159511a8",
   "metadata": {},
   "outputs": [],
   "source": [
    "MEMBERSHIP OPERATORS"
   ]
  },
  {
   "cell_type": "code",
   "execution_count": 29,
   "id": "d3ea39cf-630a-482d-baf6-3c64aa847297",
   "metadata": {},
   "outputs": [
    {
     "name": "stdout",
     "output_type": "stream",
     "text": [
      "True\n"
     ]
    }
   ],
   "source": [
    "x= \"apple\"\n",
    "print( \"d\" not in x)\n",
    "      "
   ]
  },
  {
   "cell_type": "code",
   "execution_count": 31,
   "id": "ae07de73-1f3d-436c-af7e-b59f4bdb13fb",
   "metadata": {},
   "outputs": [
    {
     "name": "stdout",
     "output_type": "stream",
     "text": [
      "True\n"
     ]
    }
   ],
   "source": [
    "x= \"orange\"\n",
    "print( \"e\" in x)"
   ]
  },
  {
   "cell_type": "code",
   "execution_count": null,
   "id": "ea31809c-2f39-428e-9e10-44b5efa59723",
   "metadata": {},
   "outputs": [],
   "source": []
  }
 ],
 "metadata": {
  "kernelspec": {
   "display_name": "Python [conda env:base] *",
   "language": "python",
   "name": "conda-base-py"
  },
  "language_info": {
   "codemirror_mode": {
    "name": "ipython",
    "version": 3
   },
   "file_extension": ".py",
   "mimetype": "text/x-python",
   "name": "python",
   "nbconvert_exporter": "python",
   "pygments_lexer": "ipython3",
   "version": "3.12.7"
  }
 },
 "nbformat": 4,
 "nbformat_minor": 5
}
